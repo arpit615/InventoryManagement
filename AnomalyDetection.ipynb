{
  "nbformat": 4,
  "nbformat_minor": 0,
  "metadata": {
    "colab": {
      "provenance": []
    },
    "kernelspec": {
      "name": "ir",
      "display_name": "R"
    },
    "language_info": {
      "name": "R"
    }
  },
  "cells": [
    {
      "cell_type": "code",
      "source": [
        "#Read data\n",
        "data <- read.csv(\"/content/inventory_log_extended.csv\")\n",
        "\n",
        "#Fix timestamp conversion\n",
        "data$timestamp <- as.POSIXct(data$timestamp, format = \"%d-%m-%Y %H:%M\")\n",
        "\n",
        "#Feature engineering\n",
        "data$hour <- as.numeric(format(data$timestamp, \"%H\"))\n",
        "data$wday <- as.numeric(format(data$timestamp, \"%u\"))  # Day of the week\n",
        "data$day <- as.numeric(format(data$timestamp, \"%d\"))\n",
        "\n",
        "#Split into train and test\n",
        "set.seed(123)\n",
        "split_ratio <- 0.7\n",
        "n <- nrow(data)\n",
        "train_indices <- sample(1:n, size = floor(split_ratio * n))\n",
        "\n",
        "train_data <- data[train_indices, ]\n",
        "test_data <- data[-train_indices, ]\n"
      ],
      "metadata": {
        "colab": {
          "base_uri": "https://localhost:8080/",
          "height": 139
        },
        "id": "9xBOA_kZNDM_",
        "outputId": "ada2b6ef-6846-4e09-967b-62fd28089614"
      },
      "execution_count": null,
      "outputs": [
        {
          "output_type": "display_data",
          "data": {
            "text/plain": [
              "   stock_left          hour            wday           day        \n",
              " Min.   : 0.000   Min.   : 0.00   Min.   :1.00   Min.   : 5.000  \n",
              " 1st Qu.: 6.000   1st Qu.: 6.00   1st Qu.:2.00   1st Qu.: 7.000  \n",
              " Median : 8.000   Median :12.00   Median :4.00   Median : 9.000  \n",
              " Mean   : 7.551   Mean   :11.73   Mean   :4.17   Mean   : 9.465  \n",
              " 3rd Qu.: 9.000   3rd Qu.:18.00   3rd Qu.:6.00   3rd Qu.:12.000  \n",
              " Max.   :50.000   Max.   :23.00   Max.   :7.00   Max.   :14.000  "
            ]
          },
          "metadata": {}
        }
      ]
    },
    {
      "cell_type": "code",
      "source": [
        "install.packages(\"caret\")\n",
        "library(caret)"
      ],
      "metadata": {
        "colab": {
          "base_uri": "https://localhost:8080/"
        },
        "id": "w_yIuWTBJwG5",
        "outputId": "0bb90bb3-d5db-45b5-e918-689fc5e27a88"
      },
      "execution_count": null,
      "outputs": [
        {
          "output_type": "stream",
          "name": "stderr",
          "text": [
            "Installing package into ‘/usr/local/lib/R/site-library’\n",
            "(as ‘lib’ is unspecified)\n",
            "\n"
          ]
        }
      ]
    },
    {
      "cell_type": "code",
      "source": [
        "features <- c(\"stock_left\", \"hour\", \"wday\", \"day\")\n",
        "\n",
        "scale_params <- preProcess(train_data[, features], method = c(\"center\", \"scale\"))\n",
        "train_scaled <- predict(scale_params, train_data[, features])\n",
        "test_scaled <- predict(scale_params, test_data[, features])"
      ],
      "metadata": {
        "id": "uMTPAnHDJx8C"
      },
      "execution_count": null,
      "outputs": []
    },
    {
      "cell_type": "code",
      "source": [
        "set.seed(42)\n",
        "k <- 3\n",
        "\n",
        "kmeans_model <- kmeans(train_scaled, centers = k)\n",
        "\n",
        "# Predict cluster assignments\n",
        "train_data$cluster <- kmeans_model$cluster"
      ],
      "metadata": {
        "id": "AGOT_whEJ5um"
      },
      "execution_count": null,
      "outputs": []
    },
    {
      "cell_type": "code",
      "source": [
        "library(purrr)\n",
        "get_anomaly_score <- function(x, centers) {\n",
        "  min(apply(centers, 1, function(c) sum((x - c)^2)))\n",
        "}\n",
        "\n",
        "test_scores <- apply(test_scaled, 1, function(row) get_anomaly_score(row, kmeans_model$centers))\n",
        "test_data$anomaly_score <- test_scores"
      ],
      "metadata": {
        "id": "QqAfbilVJ8Pe"
      },
      "execution_count": null,
      "outputs": []
    },
    {
      "cell_type": "code",
      "source": [
        "#Visualize and Evaluate\n",
        "# Set a threshold for anomaly detection\n",
        "threshold <- quantile(test_data$anomaly_score, 0.95)  # top 5% most anomalous\n",
        "\n",
        "# Create binary predictions\n",
        "test_data$predicted_label <- ifelse(test_data$anomaly_score > threshold, \"anomaly\", \"normal\")\n",
        "library(ggplot2)\n",
        "\n",
        "ggplot(test_data, aes(x = anomaly_score)) +\n",
        "  geom_histogram(binwidth = 0.1, fill = \"skyblue\", color = \"black\") +\n",
        "  geom_vline(xintercept = threshold, color = \"red\", linetype = \"dashed\") +\n",
        "  labs(title = \"Anomaly Score Distribution\", x = \"Anomaly Score\", y = \"Frequency\")\n",
        "\n",
        "# Simulate some ground truth labels for demo\n",
        "set.seed(42)\n",
        "test_data$true_label <- sample(c(\"normal\", \"anomaly\"), size = nrow(test_data), prob = c(0.95, 0.05), replace = TRUE)"
      ],
      "metadata": {
        "colab": {
          "base_uri": "https://localhost:8080/",
          "height": 437
        },
        "id": "ebxPYN_JJ__k",
        "outputId": "de02ed4e-0c70-450f-d471-9cbb8beb50c5"
      },
      "execution_count": null,
      "outputs": [
        {
          "output_type": "display_data",
          "data": {
            "text/plain": [
              "plot without title"
            ],
            "image/png": "[encoded data removed]"
          },
          "metadata": {
            "image/png": {
              "width": 420,
              "height": 420
            }
          }
        }
      ]
    },
    {
      "cell_type": "code",
      "source": [
        "# Load library\n",
        "library(caret)\n",
        "\n",
        "conf_matrix <- confusionMatrix(\n",
        "  factor(test_data$predicted_label, levels = c(\"normal\", \"anomaly\")),\n",
        "  factor(test_data$true_label, levels = c(\"normal\", \"anomaly\"))\n",
        ")\n",
        "\n",
        "print(conf_matrix)"
      ],
      "metadata": {
        "colab": {
          "base_uri": "https://localhost:8080/"
        },
        "id": "gYDZz9Q9KMo8",
        "outputId": "ec5c4b78-5f79-49f2-896a-8bbf6a0812bb"
      },
      "execution_count": null,
      "outputs": [
        {
          "output_type": "stream",
          "name": "stdout",
          "text": [
            "Confusion Matrix and Statistics\n",
            "\n",
            "          Reference\n",
            "Prediction normal anomaly\n",
            "   normal     543      27\n",
            "   anomaly     28       2\n",
            "                                          \n",
            "               Accuracy : 0.9083          \n",
            "                 95% CI : (0.8824, 0.9302)\n",
            "    No Information Rate : 0.9517          \n",
            "    P-Value [Acc > NIR] : 1               \n",
            "                                          \n",
            "                  Kappa : 0.0196          \n",
            "                                          \n",
            " Mcnemar's Test P-Value : 1               \n",
            "                                          \n",
            "            Sensitivity : 0.95096         \n",
            "            Specificity : 0.06897         \n",
            "         Pos Pred Value : 0.95263         \n",
            "         Neg Pred Value : 0.06667         \n",
            "             Prevalence : 0.95167         \n",
            "         Detection Rate : 0.90500         \n",
            "   Detection Prevalence : 0.95000         \n",
            "      Balanced Accuracy : 0.50996         \n",
            "                                          \n",
            "       'Positive' Class : normal          \n",
            "                                          \n"
          ]
        }
      ]
    }
  ]
}