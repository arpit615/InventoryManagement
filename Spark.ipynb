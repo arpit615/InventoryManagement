{
  "nbformat": 4,
  "nbformat_minor": 0,
  "metadata": {
    "colab": {
      "provenance": []
    },
    "kernelspec": {
      "name": "python3",
      "display_name": "Python 3"
    },
    "language_info": {
      "name": "python"
    }
  },
  "cells": [
    {
      "cell_type": "code",
      "execution_count": null,
      "metadata": {
        "colab": {
          "base_uri": "https://localhost:8080/"
        },
        "id": "ocvIrtjkhBrL",
        "outputId": "529a96c1-4ab7-4804-95f2-740abdf917c7"
      },
      "outputs": [
        {
          "output_type": "stream",
          "name": "stdout",
          "text": [
            "Requirement already satisfied: pyspark in /usr/local/lib/python3.11/dist-packages (3.5.5)\n",
            "Requirement already satisfied: py4j==0.10.9.7 in /usr/local/lib/python3.11/dist-packages (from pyspark) (0.10.9.7)\n"
          ]
        }
      ],
      "source": [
        "!pip install pyspark"
      ]
    },
    {
      "cell_type": "code",
      "source": [
        "from pyspark.sql import SparkSession\n",
        "from pyspark.sql.functions import col, count\n",
        "\n",
        "# Create Spark session\n",
        "spark = SparkSession.builder.appName(\"InventoryCleaning\").getOrCreate()\n",
        "\n",
        "# Load raw CSV file\n",
        "df = spark.read.csv(\"/content/inventory_log_raw.csv\", header=True, inferSchema=True)\n",
        "\n",
        "# Show original data\n",
        "df.show(5)\n",
        "\n",
        "#Remove duplicates\n",
        "df_cleaned = df.dropDuplicates()\n",
        "\n",
        "#Handle missing values - drop rows with nulls in important fields\n",
        "df_cleaned = df_cleaned.dropna(subset=[\"item_name\", \"stock_left\", \"timestamp\"])\n",
        "\n",
        "#Calculate total sales per item (number of records per item_name)\n",
        "sales_df = df_cleaned.groupBy(\"item_name\").agg(count(\"*\").alias(\"total_sales\"))\n",
        "\n",
        "# Show result\n",
        "sales_df.show()"
      ],
      "metadata": {
        "colab": {
          "base_uri": "https://localhost:8080/"
        },
        "id": "o3fqDraAlVwo",
        "outputId": "98806e78-26b3-4598-a431-1e593043089c"
      },
      "execution_count": null,
      "outputs": [
        {
          "output_type": "stream",
          "name": "stdout",
          "text": [
            "+----+---------+----------+----------------+--------+---------+\n",
            "|  ID|item_name|stock_left|       timestamp|latitude|longitude|\n",
            "+----+---------+----------+----------------+--------+---------+\n",
            "| 712|   Item_C|       5.0|08-04-2025 12:29|25.83887| 62.51105|\n",
            "|1121|   Item_C|       8.0|10-04-2025 13:31|21.09985| 44.42901|\n",
            "|1186|   Item_C|       6.0|            NULL|18.07317| 39.43655|\n",
            "|1768|   Item_C|      10.0|13-04-2025 19:17|18.94437| 52.70573|\n",
            "|1828|   Item_C|       9.0|14-04-2025 03:06| 26.3342| 59.61011|\n",
            "+----+---------+----------+----------------+--------+---------+\n",
            "only showing top 5 rows\n",
            "\n",
            "+---------+-----------+\n",
            "|item_name|total_sales|\n",
            "+---------+-----------+\n",
            "|   Item_A|        403|\n",
            "|   Item_D|        190|\n",
            "|   Item_B|        217|\n",
            "|   Item_E|        246|\n",
            "|   Item_C|        470|\n",
            "+---------+-----------+\n",
            "\n"
          ]
        }
      ]
    }
  ]
}